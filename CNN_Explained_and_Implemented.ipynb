{
  "nbformat": 4,
  "nbformat_minor": 0,
  "metadata": {
    "colab": {
      "provenance": []
    },
    "kernelspec": {
      "name": "python3",
      "display_name": "Python 3"
    },
    "language_info": {
      "name": "python"
    }
  },
  "cells": [
    {
      "cell_type": "code",
      "source": [
        "import keras"
      ],
      "metadata": {
        "id": "2WH_uHY--EJR"
      },
      "execution_count": 61,
      "outputs": []
    },
    {
      "cell_type": "code",
      "source": [
        "from keras.models import Sequential\n",
        "# sequential from keras.models, This gers our neural network as Sequential network\n",
        "#As we know, it can be sequential layers or graph"
      ],
      "metadata": {
        "id": "K577TEKg1QYu"
      },
      "execution_count": 62,
      "outputs": []
    },
    {
      "cell_type": "code",
      "source": [
        "from keras.layers import Dense, Activation, Dropout, Flatten, Conv2D,MaxPooling2D\n",
        "# dropout is a technique used to prevent overfitting"
      ],
      "metadata": {
        "id": "5t30Zwy12Poa"
      },
      "execution_count": 63,
      "outputs": []
    },
    {
      "cell_type": "code",
      "source": [
        "from keras.layers.normalization import batch_normalization\n",
        "import numpy as np"
      ],
      "metadata": {
        "id": "x6S085iM2o8y"
      },
      "execution_count": 64,
      "outputs": []
    },
    {
      "cell_type": "code",
      "source": [
        "image_shape=(227,227,3)"
      ],
      "metadata": {
        "id": "FBctwZa33PHN"
      },
      "execution_count": 65,
      "outputs": []
    },
    {
      "cell_type": "code",
      "source": [
        "np.random.seed(1000)  #instantiate an empty model"
      ],
      "metadata": {
        "id": "N56VmCDP3Ved"
      },
      "execution_count": 66,
      "outputs": []
    },
    {
      "cell_type": "code",
      "source": [
        "model=Sequential()    #It starts here"
      ],
      "metadata": {
        "id": "innGpHEl3eoi"
      },
      "execution_count": 67,
      "outputs": []
    },
    {
      "cell_type": "code",
      "source": [
        "# 1st convolutional layer\n",
        "model.add(Conv2D(filters=96, input_shape=image_shape, kernel_size=(11,11), strides=(4,4), padding='valid'))\n",
        "model.add(Activation('relu'))\n",
        "#first layer has 96 filters, the input shape is 227 X 227 X 3\n",
        "#kernel size is 11 x 11, striding 4 x 4, relu is activation function"
      ],
      "metadata": {
        "id": "l7N0xZqE3zJE"
      },
      "execution_count": 68,
      "outputs": []
    },
    {
      "cell_type": "code",
      "source": [
        "# max pooling\n",
        "model.add(MaxPooling2D(pool_size=(3,3), strides=(2,2), padding='valid'))"
      ],
      "metadata": {
        "id": "fJ2_IaD95Pw8"
      },
      "execution_count": 69,
      "outputs": []
    },
    {
      "cell_type": "code",
      "source": [
        "# 2nd convolutional layer\n",
        "model.add(Conv2D(filters=256, kernel_size=(5,5), strides=(1,1), padding='valid'))\n",
        "model.add(Activation('relu'))\n",
        "#max pulling\n",
        "model.add(MaxPooling2D(pool_size=(3,3), strides=(2,2), padding='valid'))"
      ],
      "metadata": {
        "id": "C0ptRixo6aHJ"
      },
      "execution_count": 70,
      "outputs": []
    },
    {
      "cell_type": "code",
      "source": [
        "# 3rd convolutional layer\n",
        "model.add(Conv2D(filters=384, kernel_size=(3,3), strides=(1,1), padding='valid'))\n",
        "model.add(Activation('relu'))"
      ],
      "metadata": {
        "id": "wb0kEaV3OyvB"
      },
      "execution_count": 71,
      "outputs": []
    },
    {
      "cell_type": "code",
      "source": [
        "# 4th convolutional layer\n",
        "model.add(Conv2D(filters=384, kernel_size=(3,3), strides=(1,1), padding='valid'))\n",
        "model.add(Activation('relu'))"
      ],
      "metadata": {
        "id": "MqRESNIUPENh"
      },
      "execution_count": 72,
      "outputs": []
    },
    {
      "cell_type": "code",
      "source": [
        "# 5th convolutional layer\n",
        "model.add(Conv2D(filters=256, kernel_size=(3,3), strides=(1,1), padding='valid'))\n",
        "model.add(Activation('relu'))\n",
        "#max pulling\n",
        "model.add(MaxPooling2D(pool_size=(3,3), strides=(2,2), padding='valid'))"
      ],
      "metadata": {
        "id": "3Wz-MBVCPcTt"
      },
      "execution_count": 73,
      "outputs": []
    },
    {
      "cell_type": "code",
      "source": [
        "#passing it to a fully connected layer, for flattern\n",
        "model.add(Flatten())"
      ],
      "metadata": {
        "id": "wdkWvBxhQfFf"
      },
      "execution_count": 74,
      "outputs": []
    },
    {
      "cell_type": "code",
      "source": [
        "#1st fully connected layer has 4096 neurons\n",
        "model.add(Dense(4096, input_shape=(227*227*3,)))\n",
        "model.add(Activation('relu'))\n",
        "#Add dropout to prevent overfitting\n",
        "model.add(Dropout(0.4))"
      ],
      "metadata": {
        "id": "LGoRF1BsQ0E5"
      },
      "execution_count": 76,
      "outputs": []
    },
    {
      "cell_type": "code",
      "source": [
        "#2nd fully connected layer\n",
        "model.add(Dense(4096))\n",
        "model.add(Activation('relu'))\n",
        "#Add dropout\n",
        "model.add(Dropout(0.4))"
      ],
      "metadata": {
        "id": "QauqG8YqRayw"
      },
      "execution_count": 77,
      "outputs": []
    },
    {
      "cell_type": "code",
      "source": [
        "#output layer\n",
        "model.add(Dense(1000))\n",
        "model.add(Activation('Softmax'))"
      ],
      "metadata": {
        "id": "z6fvPy4oSFXz"
      },
      "execution_count": 78,
      "outputs": []
    },
    {
      "cell_type": "code",
      "source": [
        "model.summary()\n",
        "#compile the model\n",
        "model.compile(loss=keras.losses.categorical_crossentropy, optimizer='adam', metrics=[\"accuracy\"])"
      ],
      "metadata": {
        "colab": {
          "base_uri": "https://localhost:8080/"
        },
        "id": "gjTAGN4mSSH5",
        "outputId": "4fb4c687-3862-4350-d448-b705b89b4948"
      },
      "execution_count": 82,
      "outputs": [
        {
          "output_type": "stream",
          "name": "stdout",
          "text": [
            "Model: \"sequential_3\"\n",
            "_________________________________________________________________\n",
            " Layer (type)                Output Shape              Param #   \n",
            "=================================================================\n",
            " conv2d_20 (Conv2D)          (None, 55, 55, 96)        34944     \n",
            "                                                                 \n",
            " activation_12 (Activation)  (None, 55, 55, 96)        0         \n",
            "                                                                 \n",
            " max_pooling2d_15 (MaxPoolin  (None, 27, 27, 96)       0         \n",
            " g2D)                                                            \n",
            "                                                                 \n",
            " conv2d_21 (Conv2D)          (None, 23, 23, 256)       614656    \n",
            "                                                                 \n",
            " activation_13 (Activation)  (None, 23, 23, 256)       0         \n",
            "                                                                 \n",
            " max_pooling2d_16 (MaxPoolin  (None, 11, 11, 256)      0         \n",
            " g2D)                                                            \n",
            "                                                                 \n",
            " conv2d_22 (Conv2D)          (None, 9, 9, 384)         885120    \n",
            "                                                                 \n",
            " activation_14 (Activation)  (None, 9, 9, 384)         0         \n",
            "                                                                 \n",
            " conv2d_23 (Conv2D)          (None, 7, 7, 384)         1327488   \n",
            "                                                                 \n",
            " activation_15 (Activation)  (None, 7, 7, 384)         0         \n",
            "                                                                 \n",
            " conv2d_24 (Conv2D)          (None, 5, 5, 256)         884992    \n",
            "                                                                 \n",
            " activation_16 (Activation)  (None, 5, 5, 256)         0         \n",
            "                                                                 \n",
            " max_pooling2d_17 (MaxPoolin  (None, 2, 2, 256)        0         \n",
            " g2D)                                                            \n",
            "                                                                 \n",
            " flatten_1 (Flatten)         (None, 1024)              0         \n",
            "                                                                 \n",
            " dense_1 (Dense)             (None, 4096)              4198400   \n",
            "                                                                 \n",
            " activation_17 (Activation)  (None, 4096)              0         \n",
            "                                                                 \n",
            " dense_2 (Dense)             (None, 4096)              16781312  \n",
            "                                                                 \n",
            " activation_18 (Activation)  (None, 4096)              0         \n",
            "                                                                 \n",
            " dropout (Dropout)           (None, 4096)              0         \n",
            "                                                                 \n",
            " dense_3 (Dense)             (None, 4096)              16781312  \n",
            "                                                                 \n",
            " activation_19 (Activation)  (None, 4096)              0         \n",
            "                                                                 \n",
            " dropout_1 (Dropout)         (None, 4096)              0         \n",
            "                                                                 \n",
            " dense_4 (Dense)             (None, 1000)              4097000   \n",
            "                                                                 \n",
            " activation_20 (Activation)  (None, 1000)              0         \n",
            "                                                                 \n",
            "=================================================================\n",
            "Total params: 45,605,224\n",
            "Trainable params: 45,605,224\n",
            "Non-trainable params: 0\n",
            "_________________________________________________________________\n"
          ]
        }
      ]
    }
  ]
}